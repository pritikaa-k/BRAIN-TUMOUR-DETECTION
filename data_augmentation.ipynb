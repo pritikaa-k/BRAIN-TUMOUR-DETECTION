{
  "nbformat": 4,
  "nbformat_minor": 0,
  "metadata": {
    "colab": {
      "provenance": []
    },
    "kernelspec": {
      "name": "python3",
      "display_name": "Python 3"
    },
    "language_info": {
      "name": "python"
    }
  },
  "cells": [
    {
      "cell_type": "code",
      "execution_count": null,
      "metadata": {
        "id": "tZjS7_42efSN"
      },
      "outputs": [],
      "source": [
        "import tensorflow as tf\n",
        "from keras.preprocessing.image import ImageDataGenerator\n",
        "import cv2\n",
        "import imutils\n",
        "import matplotlib.pyplot as plt\n",
        "from os import listdir\n",
        "import time    \n",
        "\n",
        "%matplotlib inline"
      ]
    },
    {
      "cell_type": "code",
      "source": [
        "from google.colab import drive\n",
        "drive.mount('/content/drive')"
      ],
      "metadata": {
        "id": "4vChIbemenm9",
        "colab": {
          "base_uri": "https://localhost:8080/"
        },
        "outputId": "6e205705-91ad-40fc-90ec-173b992b2e5c"
      },
      "execution_count": null,
      "outputs": [
        {
          "output_type": "stream",
          "name": "stdout",
          "text": [
            "Mounted at /content/drive\n"
          ]
        }
      ]
    },
    {
      "cell_type": "code",
      "source": [
        "def hms_string(sec_elapsed):\n",
        "    h = int(sec_elapsed / (60 * 60))\n",
        "    m = int((sec_elapsed % (60 * 60)) / 60)\n",
        "    s = sec_elapsed % 60\n",
        "    return f\"{h}:{m}:{round(s,1)}\""
      ],
      "metadata": {
        "id": "DdvN6YwrfaeS"
      },
      "execution_count": null,
      "outputs": []
    },
    {
      "cell_type": "code",
      "source": [
        "def augment_data(file_dir, n_generated_samples, save_to_dir):\n",
        "    \"\"\"\n",
        "    Arguments:\n",
        "        file_dir: A string representing the directory where images that we want to augment are found.\n",
        "        n_generated_samples: A string representing the number of generated samples using the given image.\n",
        "        save_to_dir: A string representing the directory in which the generated images will be saved.\n",
        "    \"\"\"\n",
        "    \n",
        "    from keras.preprocessing.image import ImageDataGenerator\n",
        "    from os import listdir\n",
        "    \n",
        "    data_gen = ImageDataGenerator(rotation_range=10, \n",
        "                                  width_shift_range=0.1, \n",
        "                                  height_shift_range=0.1, \n",
        "                                  shear_range=0.1, \n",
        "                                  brightness_range=(0.3, 1.0),\n",
        "                                  horizontal_flip=True, \n",
        "                                  vertical_flip=True, \n",
        "                                  fill_mode='nearest'\n",
        "                                 )\n",
        "\n",
        "    \n",
        "    for filename in listdir(file_dir):\n",
        "        # load the image\n",
        "        image = cv2.imread(file_dir + '\\\\' + filename)\n",
        "        # reshape the image\n",
        "        image = image.reshape((1,)+image.shape)\n",
        "        # prefix of the names for the generated sampels.\n",
        "        save_prefix = 'aug_' + filename[:-4]\n",
        "        # generate 'n_generated_samples' sample images\n",
        "        i=0\n",
        "        for batch in data_gen.flow(x=image, batch_size=1, save_to_dir=save_to_dir, save_prefix=save_prefix, save_format='jpg'):\n",
        "            i += 1\n",
        "            if i > n_generated_samples:\n",
        "                break"
      ],
      "metadata": {
        "id": "ff4AQQBQi0bJ"
      },
      "execution_count": null,
      "outputs": []
    },
    {
      "cell_type": "code",
      "source": [
        "def data_summary(main_path):\n",
        "    \n",
        "    yes_path = '/content/drive/MyDrive/Colab Notebooks/Brain_tumor_dataset/brain_tumor_dataset/' +'yes'\n",
        "    no_path =  '/content/drive/MyDrive/Colab Notebooks/Brain_tumor_dataset/brain_tumor_dataset/' +'no'\n",
        "        \n",
        "    # number of files (images) that are in the the folder named 'yes' that represent tumorous (positive) examples\n",
        "    m_pos = len(listdir(yes_path))\n",
        "    # number of files (images) that are in the the folder named 'no' that represent non-tumorous (negative) examples\n",
        "    m_neg = len(listdir(no_path))\n",
        "    # number of all examples\n",
        "    m = (m_pos+m_neg)\n",
        "    \n",
        "    pos_prec = (m_pos* 100.0)/ m\n",
        "    neg_prec = (m_neg* 100.0)/ m\n",
        "    \n",
        "    print(f\"Number of examples: {m}\")\n",
        "    print(f\"Percentage of positive examples: {pos_prec}%, number of pos examples: {m_pos}\") \n",
        "    print(f\"Percentage of negative examples: {neg_prec}%, number of neg examples: {m_neg}\") "
      ],
      "metadata": {
        "id": "T36_RawgjEI5"
      },
      "execution_count": null,
      "outputs": []
    },
    {
      "cell_type": "code",
      "source": [
        "data_summary('/content/drive/MyDrive/Colab Notebooks/Brain_tumor_dataset/')"
      ],
      "metadata": {
        "id": "mcXiC67KjJ1g",
        "colab": {
          "base_uri": "https://localhost:8080/"
        },
        "outputId": "d4de8991-f1d2-497a-8ad8-235a8cfa5eae"
      },
      "execution_count": null,
      "outputs": [
        {
          "output_type": "stream",
          "name": "stdout",
          "text": [
            "Number of examples: 245\n",
            "Percentage of positive examples: 63.265306122448976%, number of pos examples: 155\n",
            "Percentage of negative examples: 36.734693877551024%, number of neg examples: 90\n"
          ]
        }
      ]
    },
    {
      "cell_type": "code",
      "source": [],
      "metadata": {
        "id": "oT4U0oRiqcFT"
      },
      "execution_count": null,
      "outputs": []
    }
  ]
}